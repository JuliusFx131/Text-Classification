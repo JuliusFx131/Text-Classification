{
 "cells": [
  {
   "cell_type": "markdown",
   "metadata": {},
   "source": [
    "# This Brilliant Work could not have been possible were it not of CostiaB\n",
    "[CostiaB](github.com/CostiaB)"
   ]
  },
  {
   "cell_type": "code",
   "execution_count": 3,
   "metadata": {},
   "outputs": [
    {
     "name": "stdout",
     "output_type": "stream",
     "text": [
      "Collecting gensim\n",
      "  Downloading gensim-4.3.3-cp311-cp311-win_amd64.whl.metadata (8.2 kB)\n",
      "Requirement already satisfied: numpy<2.0,>=1.18.5 in c:\\python311\\lib\\site-packages (from gensim) (1.26.4)\n",
      "Requirement already satisfied: scipy<1.14.0,>=1.7.0 in c:\\python311\\lib\\site-packages (from gensim) (1.13.1)\n",
      "Requirement already satisfied: smart-open>=1.8.1 in c:\\python311\\lib\\site-packages (from gensim) (7.0.4)\n",
      "Requirement already satisfied: wrapt in c:\\python311\\lib\\site-packages (from smart-open>=1.8.1->gensim) (1.16.0)\n",
      "Downloading gensim-4.3.3-cp311-cp311-win_amd64.whl (24.0 MB)\n",
      "   ---------------------------------------- 0.0/24.0 MB ? eta -:--:--\n",
      "   ---------------------------------------- 0.3/24.0 MB ? eta -:--:--\n",
      "   --- ------------------------------------ 1.8/24.0 MB 6.7 MB/s eta 0:00:04\n",
      "   ----- ---------------------------------- 3.1/24.0 MB 6.4 MB/s eta 0:00:04\n",
      "   ------ --------------------------------- 4.2/24.0 MB 6.3 MB/s eta 0:00:04\n",
      "   ---------- ----------------------------- 6.0/24.0 MB 6.7 MB/s eta 0:00:03\n",
      "   ----------- ---------------------------- 7.1/24.0 MB 6.4 MB/s eta 0:00:03\n",
      "   -------------- ------------------------- 8.7/24.0 MB 6.9 MB/s eta 0:00:03\n",
      "   ---------------- ----------------------- 10.0/24.0 MB 6.8 MB/s eta 0:00:03\n",
      "   ------------------- -------------------- 11.8/24.0 MB 6.8 MB/s eta 0:00:02\n",
      "   ----------------------- ---------------- 14.2/24.0 MB 7.3 MB/s eta 0:00:02\n",
      "   --------------------------- ------------ 16.5/24.0 MB 7.8 MB/s eta 0:00:01\n",
      "   ------------------------------- -------- 18.9/24.0 MB 8.1 MB/s eta 0:00:01\n",
      "   ------------------------------- -------- 18.9/24.0 MB 8.1 MB/s eta 0:00:01\n",
      "   ------------------------------- -------- 18.9/24.0 MB 8.1 MB/s eta 0:00:01\n",
      "   ------------------------------- -------- 18.9/24.0 MB 8.1 MB/s eta 0:00:01\n",
      "   --------------------------------- ------ 19.9/24.0 MB 6.2 MB/s eta 0:00:01\n",
      "   ------------------------------------- -- 22.3/24.0 MB 6.5 MB/s eta 0:00:01\n",
      "   ---------------------------------------  23.9/24.0 MB 6.7 MB/s eta 0:00:01\n",
      "   ---------------------------------------- 24.0/24.0 MB 6.5 MB/s eta 0:00:00\n",
      "Installing collected packages: gensim\n",
      "Successfully installed gensim-4.3.3\n",
      "Note: you may need to restart the kernel to use updated packages.\n"
     ]
    },
    {
     "name": "stderr",
     "output_type": "stream",
     "text": [
      "WARNING: Ignoring invalid distribution ~otebook (C:\\Python311\\Lib\\site-packages)\n",
      "WARNING: Ignoring invalid distribution ~otebook (C:\\Python311\\Lib\\site-packages)\n",
      "WARNING: Ignoring invalid distribution ~otebook (C:\\Python311\\Lib\\site-packages)\n",
      "\n",
      "[notice] A new release of pip is available: 25.0.1 -> 25.2\n",
      "[notice] To update, run: python.exe -m pip install --upgrade pip\n"
     ]
    }
   ],
   "source": [
    "#pip install -q gensim"
   ]
  },
  {
   "cell_type": "code",
   "execution_count": 4,
   "metadata": {
    "colab": {
     "base_uri": "https://localhost:8080/"
    },
    "id": "CoL84Aokx4XH",
    "outputId": "b68bc825-093c-45c0-8788-5f8f812e3344"
   },
   "outputs": [],
   "source": [
    "import re\n",
    "import numpy as np\n",
    "import pandas as pd\n",
    "\n",
    "import matplotlib.pyplot as plt\n",
    "%matplotlib inline\n",
    "\n",
    "from sklearn.linear_model import LogisticRegression,RidgeClassifier\n",
    "from sklearn.feature_extraction.text import CountVectorizer,TfidfVectorizer, TfidfTransformer\n",
    "from sklearn.pipeline import Pipeline,FeatureUnion\n",
    "from sklearn.model_selection import GridSearchCV,cross_val_score,train_test_split,StratifiedKFold\n",
    "from sklearn.preprocessing import FunctionTransformer\n",
    "from sklearn.cluster import KMeans\n",
    "from sklearn.neighbors import KNeighborsClassifier\n",
    "from sklearn.ensemble import RandomForestClassifier, ExtraTreesClassifier\n",
    "from sklearn.svm import LinearSVC, SVC\n",
    "from sklearn.naive_bayes import BernoulliNB, GaussianNB, MultinomialNB\n",
    "from xgboost import XGBClassifier\n",
    "from sklearn.metrics import f1_score, confusion_matrix, classification_report\n",
    "\n",
    "from imblearn.over_sampling import SMOTE\n",
    "\n",
    "import gensim\n",
    "from gensim.models.fasttext import FastText "
   ]
  },
  {
   "cell_type": "code",
   "execution_count": 8,
   "metadata": {
    "colab": {
     "base_uri": "https://localhost:8080/",
     "height": 204
    },
    "id": "68KcoqNcx4XK",
    "outputId": "b5459970-4de9-4b16-d0cb-a830bc978d5a"
   },
   "outputs": [
    {
     "data": {
      "text/plain": [
       "(1436, 3)"
      ]
     },
     "metadata": {},
     "output_type": "display_data"
    },
    {
     "data": {
      "text/html": [
       "<div>\n",
       "<style scoped>\n",
       "    .dataframe tbody tr th:only-of-type {\n",
       "        vertical-align: middle;\n",
       "    }\n",
       "\n",
       "    .dataframe tbody tr th {\n",
       "        vertical-align: top;\n",
       "    }\n",
       "\n",
       "    .dataframe thead th {\n",
       "        text-align: right;\n",
       "    }\n",
       "</style>\n",
       "<table border=\"1\" class=\"dataframe\">\n",
       "  <thead>\n",
       "    <tr style=\"text-align: right;\">\n",
       "      <th></th>\n",
       "      <th>ID</th>\n",
       "      <th>Text</th>\n",
       "      <th>Label</th>\n",
       "    </tr>\n",
       "  </thead>\n",
       "  <tbody>\n",
       "    <tr>\n",
       "      <th>0</th>\n",
       "      <td>ID_AASHwXxg</td>\n",
       "      <td>Mwangonde: Khansala wachinyamata Akamati achi...</td>\n",
       "      <td>POLITICS</td>\n",
       "    </tr>\n",
       "    <tr>\n",
       "      <th>1</th>\n",
       "      <td>ID_AGoFySzn</td>\n",
       "      <td>MCP siidakhutire ndi kalembera Chipani cha Ma...</td>\n",
       "      <td>POLITICS</td>\n",
       "    </tr>\n",
       "    <tr>\n",
       "      <th>2</th>\n",
       "      <td>ID_AGrrkBGP</td>\n",
       "      <td>Bungwe la MANEPO Lapempha Boma Liganizire Anth...</td>\n",
       "      <td>HEALTH</td>\n",
       "    </tr>\n",
       "    <tr>\n",
       "      <th>3</th>\n",
       "      <td>ID_AIJeigeG</td>\n",
       "      <td>Ndale zogawanitsa miyambo zanyanya Si zachile...</td>\n",
       "      <td>POLITICS</td>\n",
       "    </tr>\n",
       "    <tr>\n",
       "      <th>4</th>\n",
       "      <td>ID_APMprMbV</td>\n",
       "      <td>Nanga wapolisi ataphofomoka? Masiku ano sichi...</td>\n",
       "      <td>LAW/ORDER</td>\n",
       "    </tr>\n",
       "  </tbody>\n",
       "</table>\n",
       "</div>"
      ],
      "text/plain": [
       "            ID                                               Text      Label\n",
       "0  ID_AASHwXxg   Mwangonde: Khansala wachinyamata Akamati achi...   POLITICS\n",
       "1  ID_AGoFySzn   MCP siidakhutire ndi kalembera Chipani cha Ma...   POLITICS\n",
       "2  ID_AGrrkBGP  Bungwe la MANEPO Lapempha Boma Liganizire Anth...     HEALTH\n",
       "3  ID_AIJeigeG   Ndale zogawanitsa miyambo zanyanya Si zachile...   POLITICS\n",
       "4  ID_APMprMbV   Nanga wapolisi ataphofomoka? Masiku ano sichi...  LAW/ORDER"
      ]
     },
     "metadata": {},
     "output_type": "display_data"
    }
   ],
   "source": [
    "train = pd.read_csv(\"../src/train.csv\")\n",
    "display(train.shape,train.head())"
   ]
  },
  {
   "cell_type": "code",
   "execution_count": 9,
   "metadata": {
    "colab": {
     "base_uri": "https://localhost:8080/",
     "height": 120
    },
    "id": "K0wnJHmnx4XK",
    "outputId": "7315c415-9305-4662-c9ee-9ef79c827f9c"
   },
   "outputs": [
    {
     "data": {
      "text/plain": [
       "'Kwaya ya St. James Chilomoni Yakwanitsa Zaka 40 Wolemba: Sylvester Kasitomu wp-content/uploads/2019/09/chilomoni.jpg\" alt=\"\" width=\"427\" height=\"391\" />Tchalitchi la St. James Chilomoni ku Blantyre Kwaya ya St. James ya m`parish ya Chilomoni mu arkdayosizi ya Blantyre yayamikira mamembala ake omwe akhala akutumikira mu kwayayi kwa nthawi yaitali kamba ka kakudzipereka kwao potukula maimbidwe mu kwayayi. \\nWapampando wa kwayayi a Ezekiel Lokote ndiwo alankhula izi pa mwambo wa msembe ya ukaristia yothokoza mulungu kuti kwayayi yakwanitsa zaka makumi anayi (40) chiyikhazikitsireni. \\nIwo ati mamembalawa achita zazikulu mu kwayayi kwa nthawi yaitali zomwe ati zathandiza kwambiri potuluka mayimbidwe a kwayayi. \\nIfeyo tinachiona cha nzeru kuti tikonze mwambowu pofuna kuwathokoza mamemba athu kaamba ka ntchito yomwe agwira poonetsetsa kuti mayimbidwe mukwayayi akhalepo kwa zaka 40 zapitazi ena mwa mamembalawa akwanitsa zaka 30 akuimbira mulungu mukwayayi zomwe ndizonyaditsa Polankhulapo mmodzi mwa omwe atumikira kwayayi kwa zaka zochuluka mayi Betti Banda anati iwo anayamba kwayayi ali ndi zaka zochepa mpaka pano zomwe zachititsa kuti moyo wawo wamapempero usinthike. \\nNdinayamba kwaya imeneyi ndiri ndi zaka 10 ndipo ndaimba kwayayi kwa zaka makumi atatu zomwe ndizopindulitsa mu moyo wanga wa uzimu kaamba koti pamene kwayayi ikukula inenso ndikukula muuzimu, anatero mayi Banda. \\nKwaya St. James yomwe inayimbira misa yolandira mtsogoleri wa mpingo wakatolika pa dziko lonse papa yohane Paulo wachiwiri yemwe anayendera dziko lino mu chaka cha 1989 inakhazikitsidwa mu chaka cha 1979. \\n'"
      ]
     },
     "execution_count": 9,
     "metadata": {},
     "output_type": "execute_result"
    }
   ],
   "source": [
    "train.Text[6]"
   ]
  },
  {
   "cell_type": "code",
   "execution_count": 17,
   "metadata": {
    "colab": {
     "base_uri": "https://localhost:8080/",
     "height": 359
    },
    "id": "daEkQFAvx4XL",
    "outputId": "08764d06-25fb-400e-d0c5-e410f407c227"
   },
   "outputs": [
    {
     "data": {
      "text/plain": [
       "(620, 2)"
      ]
     },
     "metadata": {},
     "output_type": "display_data"
    },
    {
     "data": {
      "text/html": [
       "<div>\n",
       "<style scoped>\n",
       "    .dataframe tbody tr th:only-of-type {\n",
       "        vertical-align: middle;\n",
       "    }\n",
       "\n",
       "    .dataframe tbody tr th {\n",
       "        vertical-align: top;\n",
       "    }\n",
       "\n",
       "    .dataframe thead th {\n",
       "        text-align: right;\n",
       "    }\n",
       "</style>\n",
       "<table border=\"1\" class=\"dataframe\">\n",
       "  <thead>\n",
       "    <tr style=\"text-align: right;\">\n",
       "      <th></th>\n",
       "      <th>ID</th>\n",
       "      <th>Text</th>\n",
       "    </tr>\n",
       "  </thead>\n",
       "  <tbody>\n",
       "    <tr>\n",
       "      <th>0</th>\n",
       "      <td>ID_ADHEtjTi</td>\n",
       "      <td>Abambo odzikhweza akuchuluka Kafukufuku wa ap...</td>\n",
       "    </tr>\n",
       "    <tr>\n",
       "      <th>1</th>\n",
       "      <td>ID_AHfJktdQ</td>\n",
       "      <td>Ambuye Ziyaye Ayamikira Aphunzitsi a Tilitonse...</td>\n",
       "    </tr>\n",
       "    <tr>\n",
       "      <th>2</th>\n",
       "      <td>ID_AUJIHpZr</td>\n",
       "      <td>Anatcheleza: Akundiopseza a gogo wanga Akundi...</td>\n",
       "    </tr>\n",
       "    <tr>\n",
       "      <th>3</th>\n",
       "      <td>ID_AUKYBbIM</td>\n",
       "      <td>Ulova wafika posauzana Adatenga digiri ya uph...</td>\n",
       "    </tr>\n",
       "    <tr>\n",
       "      <th>4</th>\n",
       "      <td>ID_AZnsVPEi</td>\n",
       "      <td>Dzombe kukoma, koma Kuyambira makedzana, pant...</td>\n",
       "    </tr>\n",
       "  </tbody>\n",
       "</table>\n",
       "</div>"
      ],
      "text/plain": [
       "            ID                                               Text\n",
       "0  ID_ADHEtjTi   Abambo odzikhweza akuchuluka Kafukufuku wa ap...\n",
       "1  ID_AHfJktdQ  Ambuye Ziyaye Ayamikira Aphunzitsi a Tilitonse...\n",
       "2  ID_AUJIHpZr   Anatcheleza: Akundiopseza a gogo wanga Akundi...\n",
       "3  ID_AUKYBbIM   Ulova wafika posauzana Adatenga digiri ya uph...\n",
       "4  ID_AZnsVPEi   Dzombe kukoma, koma Kuyambira makedzana, pant..."
      ]
     },
     "metadata": {},
     "output_type": "display_data"
    }
   ],
   "source": [
    "test = pd.read_csv(\"../src/test.csv\")\n",
    "display(test.shape,test.head())"
   ]
  },
  {
   "cell_type": "code",
   "execution_count": 18,
   "metadata": {
    "colab": {
     "base_uri": "https://localhost:8080/",
     "height": 504
    },
    "id": "QQW3sB-Yx4XM",
    "outputId": "b4a1dc50-e1f3-4c4c-ebbe-87113824d16e"
   },
   "outputs": [
    {
     "data": {
      "image/png": "[encoded data removed]",
      "text/plain": [
       "<Figure size 900x300 with 1 Axes>"
      ]
     },
     "metadata": {},
     "output_type": "display_data"
    }
   ],
   "source": [
    "train.Label.value_counts().plot.bar(figsize=(9, 3))\n",
    "plt.title('Classes distribution');"
   ]
  },
  {
   "cell_type": "code",
   "execution_count": 22,
   "metadata": {
    "id": "yMrgTHEu10Ho"
   },
   "outputs": [
    {
     "data": {
      "text/html": [
       "<div>\n",
       "<style scoped>\n",
       "    .dataframe tbody tr th:only-of-type {\n",
       "        vertical-align: middle;\n",
       "    }\n",
       "\n",
       "    .dataframe tbody tr th {\n",
       "        vertical-align: top;\n",
       "    }\n",
       "\n",
       "    .dataframe thead th {\n",
       "        text-align: right;\n",
       "    }\n",
       "</style>\n",
       "<table border=\"1\" class=\"dataframe\">\n",
       "  <thead>\n",
       "    <tr style=\"text-align: right;\">\n",
       "      <th></th>\n",
       "      <th>ID</th>\n",
       "      <th>Text</th>\n",
       "      <th>Label</th>\n",
       "      <th>text</th>\n",
       "    </tr>\n",
       "  </thead>\n",
       "  <tbody>\n",
       "    <tr>\n",
       "      <th>0</th>\n",
       "      <td>ID_AASHwXxg</td>\n",
       "      <td>Mwangonde: Khansala wachinyamata Akamati achi...</td>\n",
       "      <td>POLITICS</td>\n",
       "      <td>[mwangonde:, khansala, wachinyamata, akamati, ...</td>\n",
       "    </tr>\n",
       "    <tr>\n",
       "      <th>1</th>\n",
       "      <td>ID_AGoFySzn</td>\n",
       "      <td>MCP siidakhutire ndi kalembera Chipani cha Ma...</td>\n",
       "      <td>POLITICS</td>\n",
       "      <td>[mcp, siidakhutire, ndi, kalembera, chipani, c...</td>\n",
       "    </tr>\n",
       "    <tr>\n",
       "      <th>2</th>\n",
       "      <td>ID_AGrrkBGP</td>\n",
       "      <td>Bungwe la MANEPO Lapempha Boma Liganizire Anth...</td>\n",
       "      <td>HEALTH</td>\n",
       "      <td>[bungwe, la, manepo, lapempha, boma, liganizir...</td>\n",
       "    </tr>\n",
       "  </tbody>\n",
       "</table>\n",
       "</div>"
      ],
      "text/plain": [
       "            ID                                               Text     Label  \\\n",
       "0  ID_AASHwXxg   Mwangonde: Khansala wachinyamata Akamati achi...  POLITICS   \n",
       "1  ID_AGoFySzn   MCP siidakhutire ndi kalembera Chipani cha Ma...  POLITICS   \n",
       "2  ID_AGrrkBGP  Bungwe la MANEPO Lapempha Boma Liganizire Anth...    HEALTH   \n",
       "\n",
       "                                                text  \n",
       "0  [mwangonde:, khansala, wachinyamata, akamati, ...  \n",
       "1  [mcp, siidakhutire, ndi, kalembera, chipani, c...  \n",
       "2  [bungwe, la, manepo, lapempha, boma, liganizir...  "
      ]
     },
     "metadata": {},
     "output_type": "display_data"
    },
    {
     "data": {
      "text/html": [
       "<div>\n",
       "<style scoped>\n",
       "    .dataframe tbody tr th:only-of-type {\n",
       "        vertical-align: middle;\n",
       "    }\n",
       "\n",
       "    .dataframe tbody tr th {\n",
       "        vertical-align: top;\n",
       "    }\n",
       "\n",
       "    .dataframe thead th {\n",
       "        text-align: right;\n",
       "    }\n",
       "</style>\n",
       "<table border=\"1\" class=\"dataframe\">\n",
       "  <thead>\n",
       "    <tr style=\"text-align: right;\">\n",
       "      <th></th>\n",
       "      <th>ID</th>\n",
       "      <th>Text</th>\n",
       "      <th>text</th>\n",
       "    </tr>\n",
       "  </thead>\n",
       "  <tbody>\n",
       "    <tr>\n",
       "      <th>0</th>\n",
       "      <td>ID_ADHEtjTi</td>\n",
       "      <td>Abambo odzikhweza akuchuluka Kafukufuku wa ap...</td>\n",
       "      <td>[abambo, odzikhweza, akuchuluka, kafukufuku, w...</td>\n",
       "    </tr>\n",
       "    <tr>\n",
       "      <th>1</th>\n",
       "      <td>ID_AHfJktdQ</td>\n",
       "      <td>Ambuye Ziyaye Ayamikira Aphunzitsi a Tilitonse...</td>\n",
       "      <td>[ambuye, ziyaye, ayamikira, aphunzitsi, tilito...</td>\n",
       "    </tr>\n",
       "  </tbody>\n",
       "</table>\n",
       "</div>"
      ],
      "text/plain": [
       "            ID                                               Text  \\\n",
       "0  ID_ADHEtjTi   Abambo odzikhweza akuchuluka Kafukufuku wa ap...   \n",
       "1  ID_AHfJktdQ  Ambuye Ziyaye Ayamikira Aphunzitsi a Tilitonse...   \n",
       "\n",
       "                                                text  \n",
       "0  [abambo, odzikhweza, akuchuluka, kafukufuku, w...  \n",
       "1  [ambuye, ziyaye, ayamikira, aphunzitsi, tilito...  "
      ]
     },
     "metadata": {},
     "output_type": "display_data"
    }
   ],
   "source": [
    "def preprosses_text(doc):\n",
    "  # remove punctuation signs and multiple spaces\n",
    "  regex_punc = re.compile('[%s]'%re.escape('.,!?'))\n",
    "  doc = re.sub( regex_punc, ' ',doc)\n",
    "  doc = doc.strip().lower() \n",
    "  regex_seq_spaces = re.compile(' {2,}')\n",
    "  doc = re.sub( regex_seq_spaces, ' ',doc)\n",
    "  return doc\n",
    "\n",
    "train['text'] = train.Text.apply(lambda x: [i for i in preprosses_text(x).split() if len(i) > 1])\n",
    "test['text'] = test.Text.apply(lambda x: [i for i in preprosses_text(x).split() if len(i) > 1])\n",
    "display(train.head(3),test.head(2))"
   ]
  },
  {
   "cell_type": "code",
   "execution_count": null,
   "metadata": {},
   "outputs": [],
   "source": [
    "# size=60, window=30, min_count=1, workers=12, iter=20, sg=1, bucket=400_000"
   ]
  },
  {
   "cell_type": "code",
   "execution_count": 25,
   "metadata": {
    "colab": {
     "base_uri": "https://localhost:8080/"
    },
    "id": "f3YQDaSex4XM",
    "outputId": "033de35d-4b36-4ee8-a832-5bd37d73605c"
   },
   "outputs": [
    {
     "name": "stdout",
     "output_type": "stream",
     "text": [
      "CPU times: total: 11min 36s\n",
      "Wall time: 2min 12s\n"
     ]
    }
   ],
   "source": [
    "%%time\n",
    "model = FastText(train.text.to_list() + test.text.to_list() ,\n",
    "                 #size=60, \n",
    "                 window=30, min_count=1, workers=12,\n",
    "                 #iter=20,\n",
    "                 sg=1, bucket=400_000)\n",
    "model.save('ft.model')"
   ]
  },
  {
   "cell_type": "code",
   "execution_count": 26,
   "metadata": {
    "id": "W86ifjangiUd"
   },
   "outputs": [],
   "source": [
    "def word_averaging(wv, words):\n",
    "    mean = np.zeros((wv.vector_size,))\n",
    "    for word in words:\n",
    "        mean += wv.get_vector(word)\n",
    "    mean = gensim.matutils.unitvec(mean)\n",
    "    return mean"
   ]
  },
  {
   "cell_type": "code",
   "execution_count": 27,
   "metadata": {
    "colab": {
     "base_uri": "https://localhost:8080/"
    },
    "id": "d9Bgp-DzgiWy",
    "outputId": "7b4a1758-bbe0-4088-bb97-85e8ad2e2cb3"
   },
   "outputs": [
    {
     "name": "stderr",
     "output_type": "stream",
     "text": [
      "C:\\Python311\\Lib\\site-packages\\sklearn\\feature_extraction\\text.py:543: UserWarning: The parameter 'stop_words' will not be used since 'analyzer' != 'word'\n",
      "  warnings.warn(\n",
      "C:\\Python311\\Lib\\site-packages\\sklearn\\feature_extraction\\text.py:543: UserWarning: The parameter 'stop_words' will not be used since 'analyzer' != 'word'\n",
      "  warnings.warn(\n",
      "C:\\Python311\\Lib\\site-packages\\sklearn\\feature_extraction\\text.py:543: UserWarning: The parameter 'stop_words' will not be used since 'analyzer' != 'word'\n",
      "  warnings.warn(\n",
      "C:\\Python311\\Lib\\site-packages\\sklearn\\feature_extraction\\text.py:543: UserWarning: The parameter 'stop_words' will not be used since 'analyzer' != 'word'\n",
      "  warnings.warn(\n",
      "C:\\Python311\\Lib\\site-packages\\sklearn\\feature_extraction\\text.py:543: UserWarning: The parameter 'stop_words' will not be used since 'analyzer' != 'word'\n",
      "  warnings.warn(\n"
     ]
    },
    {
     "name": "stdout",
     "output_type": "stream",
     "text": [
      "[0.62152778 0.63763066 0.66550523 0.67247387 0.66202091] \n",
      " mean:0.652 std :0.019\n",
      "CPU times: total: 3min 33s\n",
      "Wall time: 2min 8s\n"
     ]
    }
   ],
   "source": [
    "%%time\n",
    "union = FeatureUnion([\n",
    "    (\"char15\", TfidfVectorizer(ngram_range =(1,5), analyzer='char_wb',stop_words=['ndi'],max_df = 0.2 ,min_df = 0.0 , max_features = 10000)),\n",
    "    (\"word12\", TfidfVectorizer(ngram_range =(1,2), stop_words=['ndi'], max_df = 0.15,min_df = 0.01,max_features = 5000)),\n",
    "    ('fast_vec', FunctionTransformer(lambda df: df.apply(lambda x: word_averaging(model.wv,[i for i in preprosses_text(x).split() if len(i) > 1])).tolist(),\n",
    "                                              validate=False)), ])\n",
    "pipe = Pipeline([\n",
    "    ('feats', union),\n",
    "    ('clf',LogisticRegression( C = 5,solver = 'liblinear',class_weight='balanced'))\n",
    "    ])\n",
    "\n",
    "res = cross_val_score(pipe, train['Text'],train['Label'],\n",
    "                            cv=StratifiedKFold(5, \n",
    "                                   shuffle=True, \n",
    "                                   random_state=777))\n",
    "\n",
    "print(res,'\\n mean:{:.3f} std :{:.3f}'.format(res.mean(),res.std()))"
   ]
  },
  {
   "cell_type": "code",
   "execution_count": 28,
   "metadata": {
    "id": "Ng1z_RkhgpJP"
   },
   "outputs": [
    {
     "name": "stderr",
     "output_type": "stream",
     "text": [
      "C:\\Python311\\Lib\\site-packages\\sklearn\\feature_extraction\\text.py:543: UserWarning: The parameter 'stop_words' will not be used since 'analyzer' != 'word'\n",
      "  warnings.warn(\n"
     ]
    }
   ],
   "source": [
    "pipe.fit( train['Text'],train['Label'])\n",
    "\n",
    "test.loc[:,\"Label\"] = pipe.predict(test['Text'])\n",
    "\n",
    "test[['ID','Label']].to_csv(\"subww_bal.csv\",index=False) \n",
    "\n",
    "#score 0.654838709677419 on private leaderboard"
   ]
  },
  {
   "cell_type": "code",
   "execution_count": null,
   "metadata": {
    "id": "JeM9BgFagpOG"
   },
   "outputs": [],
   "source": []
  }
 ],
 "metadata": {
  "colab": {
   "collapsed_sections": [],
   "name": "simple model.ipynb\"",
   "provenance": []
  },
  "kernelspec": {
   "display_name": "Python 3 (ipykernel)",
   "language": "python",
   "name": "python3"
  },
  "language_info": {
   "codemirror_mode": {
    "name": "ipython",
    "version": 3
   },
   "file_extension": ".py",
   "mimetype": "text/x-python",
   "name": "python",
   "nbconvert_exporter": "python",
   "pygments_lexer": "ipython3",
   "version": "3.11.3"
  }
 },
 "nbformat": 4,
 "nbformat_minor": 4
}
