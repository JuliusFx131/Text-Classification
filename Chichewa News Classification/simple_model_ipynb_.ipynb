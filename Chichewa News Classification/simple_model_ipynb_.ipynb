{
 "cells": [
  {
   "cell_type": "markdown",
   "metadata": {},
   "source": [
    "# This Brilliant Work could not have been possible were it not of CostiaB\n",
    "[CostiaB](github.com/CostiaB)"
   ]
  },
  {
   "cell_type": "code",
   "execution_count": 1,
   "metadata": {},
   "outputs": [],
   "source": [
    "#pip install -q gensim"
   ]
  },
  {
   "cell_type": "code",
   "execution_count": 2,
   "metadata": {
    "colab": {
     "base_uri": "https://localhost:8080/"
    },
    "id": "CoL84Aokx4XH",
    "outputId": "b68bc825-093c-45c0-8788-5f8f812e3344"
   },
   "outputs": [],
   "source": [
    "import re\n",
    "import numpy as np\n",
    "import pandas as pd\n",
    "\n",
    "import matplotlib.pyplot as plt\n",
    "%matplotlib inline\n",
    "\n",
    "from sklearn.linear_model import LogisticRegression,RidgeClassifier\n",
    "from sklearn.feature_extraction.text import CountVectorizer,TfidfVectorizer, TfidfTransformer\n",
    "from sklearn.pipeline import Pipeline,FeatureUnion\n",
    "from sklearn.model_selection import GridSearchCV,cross_val_score,train_test_split,StratifiedKFold\n",
    "from sklearn.preprocessing import FunctionTransformer\n",
    "from sklearn.cluster import KMeans\n",
    "from sklearn.neighbors import KNeighborsClassifier\n",
    "from sklearn.ensemble import RandomForestClassifier, ExtraTreesClassifier\n",
    "from sklearn.svm import LinearSVC, SVC\n",
    "from sklearn.naive_bayes import BernoulliNB, GaussianNB, MultinomialNB\n",
    "from xgboost import XGBClassifier\n",
    "from sklearn.metrics import f1_score, confusion_matrix, classification_report\n",
    "\n",
    "from imblearn.over_sampling import SMOTE\n",
    "\n",
    "import gensim\n",
    "from gensim.models.fasttext import FastText "
   ]
  },
  {
   "cell_type": "code",
   "execution_count": 5,
   "metadata": {
    "colab": {
     "base_uri": "https://localhost:8080/",
     "height": 204
    },
    "id": "68KcoqNcx4XK",
    "outputId": "b5459970-4de9-4b16-d0cb-a830bc978d5a"
   },
   "outputs": [
    {
     "data": {
      "text/plain": [
       "(1436, 3)"
      ]
     },
     "metadata": {},
     "output_type": "display_data"
    },
    {
     "data": {
      "text/html": [
       "<div>\n",
       "<style scoped>\n",
       "    .dataframe tbody tr th:only-of-type {\n",
       "        vertical-align: middle;\n",
       "    }\n",
       "\n",
       "    .dataframe tbody tr th {\n",
       "        vertical-align: top;\n",
       "    }\n",
       "\n",
       "    .dataframe thead th {\n",
       "        text-align: right;\n",
       "    }\n",
       "</style>\n",
       "<table border=\"1\" class=\"dataframe\">\n",
       "  <thead>\n",
       "    <tr style=\"text-align: right;\">\n",
       "      <th></th>\n",
       "      <th>ID</th>\n",
       "      <th>Text</th>\n",
       "      <th>Label</th>\n",
       "    </tr>\n",
       "  </thead>\n",
       "  <tbody>\n",
       "    <tr>\n",
       "      <th>0</th>\n",
       "      <td>ID_AASHwXxg</td>\n",
       "      <td>Mwangonde: Khansala wachinyamata Akamati achi...</td>\n",
       "      <td>POLITICS</td>\n",
       "    </tr>\n",
       "    <tr>\n",
       "      <th>1</th>\n",
       "      <td>ID_AGoFySzn</td>\n",
       "      <td>MCP siidakhutire ndi kalembera Chipani cha Ma...</td>\n",
       "      <td>POLITICS</td>\n",
       "    </tr>\n",
       "    <tr>\n",
       "      <th>2</th>\n",
       "      <td>ID_AGrrkBGP</td>\n",
       "      <td>Bungwe la MANEPO Lapempha Boma Liganizire Anth...</td>\n",
       "      <td>HEALTH</td>\n",
       "    </tr>\n",
       "    <tr>\n",
       "      <th>3</th>\n",
       "      <td>ID_AIJeigeG</td>\n",
       "      <td>Ndale zogawanitsa miyambo zanyanya Si zachile...</td>\n",
       "      <td>POLITICS</td>\n",
       "    </tr>\n",
       "    <tr>\n",
       "      <th>4</th>\n",
       "      <td>ID_APMprMbV</td>\n",
       "      <td>Nanga wapolisi ataphofomoka? Masiku ano sichi...</td>\n",
       "      <td>LAW/ORDER</td>\n",
       "    </tr>\n",
       "  </tbody>\n",
       "</table>\n",
       "</div>"
      ],
      "text/plain": [
       "            ID                                               Text      Label\n",
       "0  ID_AASHwXxg   Mwangonde: Khansala wachinyamata Akamati achi...   POLITICS\n",
       "1  ID_AGoFySzn   MCP siidakhutire ndi kalembera Chipani cha Ma...   POLITICS\n",
       "2  ID_AGrrkBGP  Bungwe la MANEPO Lapempha Boma Liganizire Anth...     HEALTH\n",
       "3  ID_AIJeigeG   Ndale zogawanitsa miyambo zanyanya Si zachile...   POLITICS\n",
       "4  ID_APMprMbV   Nanga wapolisi ataphofomoka? Masiku ano sichi...  LAW/ORDER"
      ]
     },
     "metadata": {},
     "output_type": "display_data"
    }
   ],
   "source": [
    "train = pd.read_csv(\"./src/train.csv\")\n",
    "display(train.shape,train.head())"
   ]
  },
  {
   "cell_type": "code",
   "execution_count": null,
   "metadata": {
    "colab": {
     "base_uri": "https://localhost:8080/",
     "height": 120
    },
    "id": "K0wnJHmnx4XK",
    "outputId": "7315c415-9305-4662-c9ee-9ef79c827f9c"
   },
   "outputs": [],
   "source": [
    "train.Text[6]"
   ]
  },
  {
   "cell_type": "code",
   "execution_count": null,
   "metadata": {
    "colab": {
     "base_uri": "https://localhost:8080/",
     "height": 359
    },
    "id": "daEkQFAvx4XL",
    "outputId": "08764d06-25fb-400e-d0c5-e410f407c227"
   },
   "outputs": [],
   "source": [
    "test = pd.read_csv(\"../src/test.csv\")\n",
    "display(test.shape,test.head())"
   ]
  },
  {
   "cell_type": "code",
   "execution_count": null,
   "metadata": {
    "colab": {
     "base_uri": "https://localhost:8080/",
     "height": 504
    },
    "id": "QQW3sB-Yx4XM",
    "outputId": "b4a1dc50-e1f3-4c4c-ebbe-87113824d16e"
   },
   "outputs": [],
   "source": [
    "train.Label.value_counts().plot.bar(figsize=(9, 3))\n",
    "plt.title('Classes distribution');"
   ]
  },
  {
   "cell_type": "code",
   "execution_count": null,
   "metadata": {
    "id": "yMrgTHEu10Ho"
   },
   "outputs": [],
   "source": [
    "def preprosses_text(doc):\n",
    "  # remove punctuation signs and multiple spaces\n",
    "  regex_punc = re.compile('[%s]'%re.escape('.,!?'))\n",
    "  doc = re.sub( regex_punc, ' ',doc)\n",
    "  doc = doc.strip().lower() \n",
    "  regex_seq_spaces = re.compile(' {2,}')\n",
    "  doc = re.sub( regex_seq_spaces, ' ',doc)\n",
    "  return doc\n",
    "\n",
    "train['text'] = train.Text.apply(lambda x: [i for i in preprosses_text(x).split() if len(i) > 1])\n",
    "test['text'] = test.Text.apply(lambda x: [i for i in preprosses_text(x).split() if len(i) > 1])\n",
    "display(train.head(3),test.head(2))"
   ]
  },
  {
   "cell_type": "code",
   "execution_count": null,
   "metadata": {},
   "outputs": [],
   "source": [
    "# size=60, window=30, min_count=1, workers=12, iter=20, sg=1, bucket=400_000"
   ]
  },
  {
   "cell_type": "code",
   "execution_count": null,
   "metadata": {
    "colab": {
     "base_uri": "https://localhost:8080/"
    },
    "id": "f3YQDaSex4XM",
    "outputId": "033de35d-4b36-4ee8-a832-5bd37d73605c"
   },
   "outputs": [],
   "source": [
    "%%time\n",
    "model = FastText(train.text.to_list() + test.text.to_list() ,\n",
    "                 #size=60, \n",
    "                 window=30, min_count=1, workers=12,\n",
    "                 #iter=20,\n",
    "                 sg=1, bucket=400_000)\n",
    "model.save('ft.model')"
   ]
  },
  {
   "cell_type": "code",
   "execution_count": null,
   "metadata": {
    "id": "W86ifjangiUd"
   },
   "outputs": [],
   "source": [
    "def word_averaging(wv, words):\n",
    "    mean = np.zeros((wv.vector_size,))\n",
    "    for word in words:\n",
    "        mean += wv.get_vector(word)\n",
    "    mean = gensim.matutils.unitvec(mean)\n",
    "    return mean"
   ]
  },
  {
   "cell_type": "code",
   "execution_count": null,
   "metadata": {
    "colab": {
     "base_uri": "https://localhost:8080/"
    },
    "id": "d9Bgp-DzgiWy",
    "outputId": "7b4a1758-bbe0-4088-bb97-85e8ad2e2cb3"
   },
   "outputs": [],
   "source": [
    "%%time\n",
    "union = FeatureUnion([\n",
    "    (\"char15\", TfidfVectorizer(ngram_range =(1,5), analyzer='char_wb',stop_words=['ndi'],max_df = 0.2 ,min_df = 0.0 , max_features = 10000)),\n",
    "    (\"word12\", TfidfVectorizer(ngram_range =(1,2), stop_words=['ndi'], max_df = 0.15,min_df = 0.01,max_features = 5000)),\n",
    "    ('fast_vec', FunctionTransformer(lambda df: df.apply(lambda x: word_averaging(model.wv,[i for i in preprosses_text(x).split() if len(i) > 1])).tolist(),\n",
    "                                              validate=False)), ])\n",
    "pipe = Pipeline([\n",
    "    ('feats', union),\n",
    "    ('clf',LogisticRegression( C = 5,solver = 'liblinear',class_weight='balanced'))\n",
    "    ])\n",
    "\n",
    "res = cross_val_score(pipe, train['Text'],train['Label'],\n",
    "                            cv=StratifiedKFold(5, \n",
    "                                   shuffle=True, \n",
    "                                   random_state=777))\n",
    "\n",
    "print(res,'\\n mean:{:.3f} std :{:.3f}'.format(res.mean(),res.std()))"
   ]
  },
  {
   "cell_type": "code",
   "execution_count": null,
   "metadata": {
    "id": "Ng1z_RkhgpJP"
   },
   "outputs": [],
   "source": [
    "pipe.fit( train['Text'],train['Label'])\n",
    "\n",
    "test.loc[:,\"Label\"] = pipe.predict(test['Text'])\n",
    "\n",
    "test[['ID','Label']].to_csv(\"subww_bal.csv\",index=False) \n",
    "\n",
    "#score 0.654838709677419 on private leaderboard"
   ]
  },
  {
   "cell_type": "code",
   "execution_count": null,
   "metadata": {
    "id": "JeM9BgFagpOG"
   },
   "outputs": [],
   "source": []
  }
 ],
 "metadata": {
  "colab": {
   "collapsed_sections": [],
   "name": "simple model.ipynb\"",
   "provenance": []
  },
  "kernelspec": {
   "display_name": "Python 3 (ipykernel)",
   "language": "python",
   "name": "python3"
  },
  "language_info": {
   "codemirror_mode": {
    "name": "ipython",
    "version": 3
   },
   "file_extension": ".py",
   "mimetype": "text/x-python",
   "name": "python",
   "nbconvert_exporter": "python",
   "pygments_lexer": "ipython3",
   "version": "3.11.3"
  }
 },
 "nbformat": 4,
 "nbformat_minor": 4
}
